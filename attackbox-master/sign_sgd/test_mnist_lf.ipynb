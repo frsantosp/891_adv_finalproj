{
 "cells": [
  {
   "cell_type": "code",
   "execution_count": 1,
   "metadata": {},
   "outputs": [],
   "source": [
    "import os\n",
    "import sys\n",
    "os.environ[\"CUDA_DEVICE_ORDER\"]=\"PCI_BUS_ID\"\n",
    "os.environ[\"CUDA_VISIBLE_DEVICES\"]=\"4\";\n",
    "\n",
    "\n",
    "%load_ext autoreload\n",
    "%autoreload 2\n",
    "from CW import CW\n",
    "from FGSM import FGSM\n",
    "from OPT_attack import OPT_attack\n",
    "from OPT_attack_polar import OPT_attack_polar\n",
    "from OPT_attack_polar_GD import OPT_attack_polar_GD\n",
    "from OPT_attack_lsq import OPT_attack_lsq\n",
    "from OPT_attack_polar_lsq import OPT_attack_polar_lsq\n",
    "from OPT_attack_GD import OPT_attack_GD\n",
    "from OPT_genattack import OPT_genattack\n",
    "from OPT_attack_sign_SGD import OPT_attack_sign_SGD\n",
    "from OPT_attack_sign_SGD_lf import OPT_attack_sign_SGD_lf\n",
    "from ZOO import ZOO\n",
    "from OPT_attack_lf import OPT_attack_lf\n",
    "from nes_attack import NES\n",
    "from models import PytorchModel\n",
    "import torch\n",
    "from allmodels import MNIST, load_model, load_mnist_data, load_cifar10_data, CIFAR10\n",
    "import os\n",
    "import numpy as np\n",
    "import matplotlib.pyplot as plt"
   ]
  },
  {
   "cell_type": "code",
   "execution_count": 2,
   "metadata": {},
   "outputs": [
    {
     "data": {
      "image/png": "[encoded data removed]",
      "text/plain": [
       "<Figure size 432x288 with 3 Axes>"
      ]
     },
     "metadata": {},
     "output_type": "display_data"
    }
   ],
   "source": [
    "net = MNIST()\n",
    "net.cuda()\n",
    "net = torch.nn.DataParallel(net, device_ids=[0])\n",
    "# print(net)\n",
    "load_model(net,'mnist_gpu.pt')\n",
    "net.eval()\n",
    "model = net.module if torch.cuda.is_available() else net\n",
    "# model = model.cpu()\n",
    "train_loader, test_loader, train_dataset, test_dataset = load_mnist_data()\n",
    "\n",
    "X0, Y0 = None, None\n",
    "X1, Y1 = None, None\n",
    "X2, Y2 = None, None\n",
    "for i, (xi,yi) in enumerate(test_loader):\n",
    "    if i==0:\n",
    "        X0, Y0 = xi, yi\n",
    "    if i==1:\n",
    "        X1, Y1 = xi, yi\n",
    "    if i==2:\n",
    "        X2, Y2 = xi, yi\n",
    "    if i==10:\n",
    "        break\n",
    "        \n",
    "amodel = PytorchModel(model, bounds=[0,1], num_classes=10)\n",
    "\n",
    "def plot_adv(X, adv):\n",
    "    plt.subplot(1,2,1)\n",
    "    plt.imshow(X[0][0], cmap='gray')\n",
    "    plt.subplot(1,2,2)\n",
    "    plt.imshow(adv.cpu()[0][0], cmap='gray')\n",
    "    plt.show()\n",
    "\n",
    "# Plot the sample images\n",
    "plt.subplot(1,3,1)\n",
    "plt.imshow(X0[0][0], cmap='gray')\n",
    "plt.subplot(1,3,2)\n",
    "plt.imshow(X1[0][0], cmap='gray')\n",
    "plt.subplot(1,3,3)\n",
    "plt.imshow(X2[0][0], cmap='gray')\n",
    "plt.show()"
   ]
  },
  {
   "cell_type": "markdown",
   "metadata": {},
   "source": [
    "### Baseline distortions for 3 examples (Original Randomized Gradient Free optimization)"
   ]
  },
  {
   "cell_type": "code",
   "execution_count": 3,
   "metadata": {},
   "outputs": [
    {
     "name": "stdout",
     "output_type": "stream",
     "text": [
      "d0  1.41381\n",
      "d1  1.30457\n",
      "d3  0.7591699999999999\n"
     ]
    }
   ],
   "source": [
    "# These distortions were calculated by taking average of 10 trials for each example\n",
    "# using the randomized gradient free method.\n",
    "d0 = (1.5292 + 1.5095 + 1.4743 + 1.3108 + 1.2816 + 1.4416 + 1.5323 + 1.3404 + 1.3365 + 1.3819)/10\n",
    "d1 = (1.2531 + 1.3640 + 1.2929 + 1.2826 + 1.2985 + 1.3726 + 1.3016 + 1.2917 + 1.2976 + 1.2911)/10\n",
    "d2 = (0.7499 + 0.7520 + 0.7615 + 0.7599 + 0.7609 + 0.7635 + 0.7450 + 0.7497 + 0.8018 + 0.7475)/10\n",
    "print(\"d0 \", d0)\n",
    "print(\"d1 \", d1)\n",
    "print(\"d3 \", d2)"
   ]
  },
  {
   "cell_type": "code",
   "execution_count": 9,
   "metadata": {},
   "outputs": [],
   "source": [
    "x, y = X2, Y2\n",
    "target = 4\n",
    "seed = 100"
   ]
  },
  {
   "cell_type": "markdown",
   "metadata": {},
   "source": [
    "### Untargeted"
   ]
  },
  {
   "cell_type": "code",
   "execution_count": 6,
   "metadata": {},
   "outputs": [
    {
     "name": "stderr",
     "output_type": "stream",
     "text": [
      "/home/simranjit/blackbox/attackbox-master/models.py:26: UserWarning: volatile was removed and now has no effect. Use `with torch.no_grad():` instead.\n",
      "  image = Variable(image, volatile=True) # ?? not supported by latest pytorch\n"
     ]
    },
    {
     "name": "stdout",
     "output_type": "stream",
     "text": [
      "Searching for the initial direction on 100 random directions: \n",
      "--------> Found distortion 1.2253\n",
      "--------> Found distortion 1.1832\n",
      "--------> Found distortion 1.0333\n",
      "--------> Found distortion 0.9936\n",
      "--------> Found distortion 0.9862\n",
      "--------> Found distortion 0.9370\n",
      "--------> Found distortion 0.8480\n",
      "--------> Found distortion 0.8322\n",
      "--------> Found distortion 0.8046\n",
      "==========> Found best distortion 0.8046 in 0.8304 seconds using 346 queries\n",
      "Iteration  10 distortion 0.627034 num_queries 1345\n",
      "Iteration  20 distortion 0.587195 num_queries 2701\n",
      "Iteration  30 distortion 0.574141 num_queries 3998\n",
      "Warning: not moving, g2 0.566139 gtheta 0.566139 beta is 0.010000\n",
      "Iteration  40 distortion 0.553978 num_queries 5821\n",
      "Iteration  50 distortion 0.538684 num_queries 7588\n",
      "Iteration  60 distortion 0.523825 num_queries 9257\n",
      "Warning: not moving, g2 0.523743 gtheta 0.523743 beta is 0.001000\n",
      "Iteration  70 distortion 0.513147 num_queries 11534\n",
      "Iteration  80 distortion 0.505613 num_queries 13748\n",
      "Iteration  90 distortion 0.497917 num_queries 15867\n",
      "Iteration 100 distortion 0.482077 num_queries 17985\n",
      "Iteration 110 distortion 0.467717 num_queries 20132\n",
      "Iteration 120 distortion 0.455187 num_queries 22142\n",
      "Iteration 130 distortion 0.438001 num_queries 24333\n",
      "Iteration 140 distortion 0.434880 num_queries 26487\n",
      "Iteration 150 distortion 0.427666 num_queries 28670\n",
      "Iteration 160 distortion 0.424527 num_queries 30844\n",
      "Iteration 170 distortion 0.421451 num_queries 33039\n",
      "Iteration 180 distortion 0.419966 num_queries 35153\n",
      "Warning: not moving, g2 0.419964 gtheta 0.419964 beta is 0.000100\n",
      "Iteration 190 distortion 0.416096 num_queries 37977\n",
      "Iteration 200 distortion 0.414681 num_queries 40772\n",
      "Iteration 210 distortion 0.412845 num_queries 43303\n",
      "Iteration 220 distortion 0.409155 num_queries 45797\n",
      "Iteration 230 distortion 0.405567 num_queries 48402\n",
      "Iteration 240 distortion 0.404139 num_queries 50969\n",
      "Warning: not moving, g2 0.403587 gtheta 0.403587 beta is 0.000010\n",
      "Iteration 250 distortion 0.403444 num_queries 53857\n",
      "Iteration 260 distortion 0.402873 num_queries 56673\n",
      "Iteration 270 distortion 0.402661 num_queries 59599\n",
      "Warning: not moving, g2 0.402658 gtheta 0.402658 beta is 0.000001\n",
      "Warning: not moving, g2 0.402658 gtheta 0.402658 beta is 0.000000\n",
      "Warning: not moving, g2 0.402658 gtheta 0.402658 beta is 0.000000\n",
      "\n",
      "Adversarial Example Found Successfully: distortion 0.4027 target 2 queries 62660 \n",
      "Time: 124.3180 seconds\n"
     ]
    },
    {
     "data": {
      "image/png": "[encoded data removed]",
      "text/plain": [
       "<Figure size 432x288 with 2 Axes>"
      ]
     },
     "metadata": {},
     "output_type": "display_data"
    }
   ],
   "source": [
    "attack = OPT_attack_lf(amodel)\n",
    "adv, dist = attack(x.cuda(), y.cuda(), seed=seed)\n",
    "plot_adv(x, adv)"
   ]
  },
  {
   "cell_type": "code",
   "execution_count": 10,
   "metadata": {
    "scrolled": true
   },
   "outputs": [
    {
     "name": "stdout",
     "output_type": "stream",
     "text": [
      "Searching for the initial direction on 100 random directions: \n",
      "--------> Found distortion 0.6939\n",
      "--------> Found distortion 0.5061\n",
      "--------> Found distortion 0.4640\n",
      "--------> Found distortion 0.4435\n",
      "--------> Found distortion 0.4374\n",
      "--------> Found distortion 0.4216\n",
      "--------> Found distortion 0.4215\n",
      "==========> Found best distortion 0.4215 in 0.4201 seconds using 309 queries\n",
      "Iteration   1 distortion 0.354331 num_queries 670\n",
      "Iteration   6 distortion 0.267247 num_queries 2146\n",
      "Iteration  11 distortion 0.215276 num_queries 3634\n",
      "Iteration  16 distortion 0.195438 num_queries 4844\n",
      "Iteration  21 distortion 0.190117 num_queries 5987\n",
      "Iteration  26 distortion 0.178301 num_queries 7255\n",
      "Iteration  31 distortion 0.174755 num_queries 8378\n",
      "Iteration  36 distortion 0.169393 num_queries 9506\n",
      "Iteration  41 distortion 0.167277 num_queries 10732\n",
      "Iteration  46 distortion 0.165444 num_queries 11853\n",
      "Iteration  51 distortion 0.163576 num_queries 12985\n",
      "Iteration  56 distortion 0.161722 num_queries 14196\n",
      "Iteration  61 distortion 0.160828 num_queries 15339\n",
      "Iteration  66 distortion 0.159880 num_queries 16588\n",
      "Iteration  71 distortion 0.157493 num_queries 17735\n",
      "Iteration  76 distortion 0.156004 num_queries 18893\n",
      "Iteration  81 distortion 0.155602 num_queries 20031\n",
      "Iteration  86 distortion 0.154650 num_queries 21152\n",
      "Iteration  91 distortion 0.153511 num_queries 22328\n",
      "Iteration  96 distortion 0.153087 num_queries 23471\n",
      "Iteration 101 distortion 0.152970 num_queries 24592\n",
      "Iteration 106 distortion 0.152666 num_queries 25812\n",
      "Iteration 111 distortion 0.152325 num_queries 27032\n",
      "Iteration 116 distortion 0.151885 num_queries 28197\n",
      "Iteration 121 distortion 0.151375 num_queries 29375\n",
      "Iteration 126 distortion 0.151070 num_queries 30518\n",
      "Iteration 131 distortion 0.150899 num_queries 31650\n",
      "Iteration 136 distortion 0.150309 num_queries 32798\n",
      "Iteration 141 distortion 0.150042 num_queries 33963\n",
      "Iteration 146 distortion 0.149741 num_queries 35139\n",
      "Iteration 151 distortion 0.149490 num_queries 36315\n",
      "Iteration 156 distortion 0.149295 num_queries 37469\n",
      "Iteration 161 distortion 0.149075 num_queries 38601\n",
      "Iteration 166 distortion 0.148910 num_queries 39744\n",
      "Iteration 171 distortion 0.148704 num_queries 40887\n",
      "Iteration 176 distortion 0.148635 num_queries 42019\n",
      "Iteration 181 distortion 0.148509 num_queries 43206\n",
      "Iteration 186 distortion 0.148445 num_queries 44327\n",
      "Iteration 191 distortion 0.148335 num_queries 45492\n",
      "Iteration 196 distortion 0.148144 num_queries 46657\n",
      "Iteration 201 distortion 0.147702 num_queries 47800\n",
      "Iteration 206 distortion 0.147313 num_queries 48943\n",
      "Iteration 211 distortion 0.147198 num_queries 50086\n",
      "Iteration 216 distortion 0.146939 num_queries 51196\n",
      "Iteration 221 distortion 0.146671 num_queries 52361\n",
      "Iteration 226 distortion 0.146601 num_queries 53504\n",
      "Iteration 231 distortion 0.146345 num_queries 54647\n",
      "Iteration 236 distortion 0.146183 num_queries 55812\n",
      "Iteration 241 distortion 0.145949 num_queries 57010\n",
      "Iteration 246 distortion 0.145858 num_queries 58131\n",
      "Iteration 251 distortion 0.145783 num_queries 59274\n",
      "\n",
      "Adversarial Example Found Successfully: distortion 0.1457 target 4 queries 60184 LS queries 8875 \n",
      "Time: 88.5834 seconds\n"
     ]
    },
    {
     "data": {
      "image/png": "[encoded data removed]",
      "text/plain": [
       "<Figure size 432x288 with 2 Axes>"
      ]
     },
     "metadata": {},
     "output_type": "display_data"
    }
   ],
   "source": [
    "attack = OPT_attack_sign_SGD_lf(amodel)\n",
    "adv_sign, dist_sign = attack(x.cuda(), y.cuda(), seed=seed)\n",
    "plot_adv(x, adv_sign)"
   ]
  },
  {
   "cell_type": "code",
   "execution_count": 11,
   "metadata": {},
   "outputs": [
    {
     "name": "stdout",
     "output_type": "stream",
     "text": [
      "Searching for the initial direction on 100 random directions: \n",
      "--------> Found distortion 0.6939\n",
      "--------> Found distortion 0.5061\n",
      "--------> Found distortion 0.4640\n",
      "--------> Found distortion 0.4435\n",
      "--------> Found distortion 0.4374\n",
      "--------> Found distortion 0.4216\n",
      "--------> Found distortion 0.4215\n",
      "==========> Found best distortion 0.4215 in 0.4212 seconds using 309 queries\n",
      "Iteration   1 distortion 0.353292 num_queries 640\n",
      "Iteration   6 distortion 0.268287 num_queries 1977\n",
      "Iteration  11 distortion 0.210755 num_queries 3448\n",
      "Iteration  16 distortion 0.200016 num_queries 4676\n",
      "Iteration  21 distortion 0.192009 num_queries 5887\n",
      "Iteration  26 distortion 0.188461 num_queries 7056\n",
      "Iteration  31 distortion 0.186167 num_queries 8184\n",
      "Iteration  36 distortion 0.181588 num_queries 9317\n",
      "Iteration  41 distortion 0.178544 num_queries 10498\n",
      "Iteration  46 distortion 0.176415 num_queries 11667\n",
      "Iteration  51 distortion 0.174605 num_queries 12803\n",
      "Iteration  56 distortion 0.173092 num_queries 13981\n",
      "Iteration  61 distortion 0.172288 num_queries 15152\n",
      "Iteration  66 distortion 0.171592 num_queries 16286\n",
      "Iteration  71 distortion 0.170670 num_queries 17451\n",
      "Iteration  76 distortion 0.169800 num_queries 18598\n",
      "Iteration  81 distortion 0.169234 num_queries 19730\n",
      "Iteration  86 distortion 0.168816 num_queries 20851\n",
      "Iteration  91 distortion 0.168260 num_queries 21972\n",
      "Iteration  96 distortion 0.167639 num_queries 23104\n",
      "Iteration 101 distortion 0.167284 num_queries 24258\n",
      "Iteration 106 distortion 0.167033 num_queries 25401\n",
      "Iteration 111 distortion 0.166785 num_queries 26533\n",
      "Iteration 116 distortion 0.166414 num_queries 27689\n",
      "Warning: not moving, beta is 0.001\n",
      "Success: stopping threshold reached\n",
      "\n",
      "Adversarial Example Found Successfully: distortion 0.1663 target 4 queries 28753 LS queries 4444 \n",
      "Time: 41.4859 seconds\n"
     ]
    },
    {
     "data": {
      "image/png": "[encoded data removed]",
      "text/plain": [
       "<Figure size 432x288 with 2 Axes>"
      ]
     },
     "metadata": {},
     "output_type": "display_data"
    }
   ],
   "source": [
    "attack = OPT_attack_sign_SGD_lf(amodel)\n",
    "adv_sign, dist_sign = attack(x.cuda(), y.cuda(), seed=seed)\n",
    "plot_adv(x, adv_sign)"
   ]
  },
  {
   "cell_type": "markdown",
   "metadata": {},
   "source": [
    "### Targeted"
   ]
  },
  {
   "cell_type": "code",
   "execution_count": 10,
   "metadata": {},
   "outputs": [
    {
     "name": "stdout",
     "output_type": "stream",
     "text": [
      "Targeted attack - Source: 7 and Target: 4 Seed: 100\n",
      "Searching for the initial direction on 100 samples: \n",
      "--------> Found distortion 0.6148\n",
      "--------> Found distortion 0.5575\n",
      "--------> Found distortion 0.5474\n"
     ]
    },
    {
     "name": "stderr",
     "output_type": "stream",
     "text": [
      "/home/simranjit/blackbox/attackbox-master/models.py:26: UserWarning: volatile was removed and now has no effect. Use `with torch.no_grad():` instead.\n",
      "  image = Variable(image, volatile=True) # ?? not supported by latest pytorch\n"
     ]
    },
    {
     "name": "stdout",
     "output_type": "stream",
     "text": [
      "--------> Found distortion 0.5291\n",
      "--------> Found distortion 0.4489\n",
      "--------> Found distortion 0.4482\n",
      "--------> Found distortion 0.4243\n",
      "==========> Found best distortion 0.4243 in 2.0079 seconds using 1152 queries\n",
      "Iteration  10 distortion 0.422449 num_queries 2886\n",
      "Warning: not moving, g2 0.422098 gtheta 0.422098 beta is 0.001000\n",
      "Iteration  20 distortion 0.421833 num_queries 6538\n",
      "Warning: not moving, g2 0.421680 gtheta 0.421680 beta is 0.000100\n",
      "Iteration  30 distortion 0.421652 num_queries 10797\n",
      "Iteration  40 distortion 0.421570 num_queries 15300\n",
      "Warning: not moving, g2 0.421564 gtheta 0.421564 beta is 0.000010\n",
      "Iteration  50 distortion 0.421553 num_queries 20346\n",
      "Warning: not moving, g2 0.421547 gtheta 0.421547 beta is 0.000001\n",
      "Iteration  60 distortion 0.421547 num_queries 25710\n",
      "Iteration  70 distortion 0.421544 num_queries 31253\n",
      "Warning: not moving, g2 0.421542 gtheta 0.421542 beta is 0.000000\n",
      "Warning: not moving, g2 0.421542 gtheta 0.421542 beta is 0.000000\n",
      "\n",
      "Adversarial Example Found Successfully: distortion 0.4215 target 4 queries 35737 \n",
      "Time: 55.3961 seconds\n"
     ]
    },
    {
     "data": {
      "image/png": "[encoded data removed]",
      "text/plain": [
       "<Figure size 432x288 with 2 Axes>"
      ]
     },
     "metadata": {},
     "output_type": "display_data"
    }
   ],
   "source": [
    "attack = OPT_attack_lf(amodel, train_dataset=train_dataset)\n",
    "adv, dist = attack(x.cuda(), y.cuda(), target=target*torch.ones(1, dtype=torch.long).cuda(), seed=seed)\n",
    "plot_adv(x, adv)"
   ]
  },
  {
   "cell_type": "code",
   "execution_count": 11,
   "metadata": {
    "scrolled": true
   },
   "outputs": [
    {
     "name": "stdout",
     "output_type": "stream",
     "text": [
      "Targeted attack - Source: 7 and Target: 4 Seed: 100\n",
      "Searching for the initial direction on 100 samples: \n",
      "--------> Found distortion 0.6148\n",
      "--------> Found distortion 0.5575\n",
      "--------> Found distortion 0.5474\n",
      "--------> Found distortion 0.5291\n"
     ]
    },
    {
     "name": "stderr",
     "output_type": "stream",
     "text": [
      "/home/simranjit/blackbox/attackbox-master/models.py:26: UserWarning: volatile was removed and now has no effect. Use `with torch.no_grad():` instead.\n",
      "  image = Variable(image, volatile=True) # ?? not supported by latest pytorch\n"
     ]
    },
    {
     "name": "stdout",
     "output_type": "stream",
     "text": [
      "--------> Found distortion 0.4489\n",
      "--------> Found distortion 0.4482\n",
      "--------> Found distortion 0.4243\n",
      "==========> Found best distortion 0.4243 in 1.7001 seconds using 1152 queries\n",
      "Iteration   1 distortion 0.422861 num_queries 1378\n",
      "Iteration   6 distortion 0.422446 num_queries 2573\n",
      "Iteration  11 distortion 0.422313 num_queries 3716\n",
      "Iteration  16 distortion 0.421982 num_queries 4911\n",
      "Iteration  21 distortion 0.421769 num_queries 6080\n",
      "Iteration  26 distortion 0.421656 num_queries 7223\n",
      "Iteration  31 distortion 0.421521 num_queries 8379\n",
      "Iteration  36 distortion 0.421200 num_queries 9587\n",
      "Iteration  41 distortion 0.420838 num_queries 10795\n",
      "Iteration  46 distortion 0.420618 num_queries 11951\n",
      "Iteration  51 distortion 0.420477 num_queries 13094\n",
      "Iteration  56 distortion 0.420283 num_queries 14263\n",
      "Iteration  61 distortion 0.420158 num_queries 15406\n",
      "Iteration  66 distortion 0.420051 num_queries 16562\n",
      "Warning: not moving\n",
      "Iteration  71 distortion 0.420021 num_queries 17938\n",
      "Iteration  76 distortion 0.419973 num_queries 19130\n",
      "Iteration  81 distortion 0.419933 num_queries 20418\n",
      "Iteration  86 distortion 0.419914 num_queries 21594\n",
      "Iteration  91 distortion 0.419886 num_queries 22786\n",
      "Iteration  96 distortion 0.419856 num_queries 23962\n",
      "Iteration 101 distortion 0.419835 num_queries 25154\n",
      "Iteration 106 distortion 0.419806 num_queries 26346\n",
      "Iteration 111 distortion 0.419778 num_queries 27538\n",
      "Iteration 116 distortion 0.419749 num_queries 28714\n",
      "Iteration 121 distortion 0.419729 num_queries 29938\n",
      "Iteration 126 distortion 0.419711 num_queries 31098\n",
      "Iteration 131 distortion 0.419684 num_queries 32274\n",
      "Iteration 136 distortion 0.419643 num_queries 33466\n",
      "Iteration 141 distortion 0.419621 num_queries 34674\n",
      "Iteration 146 distortion 0.419595 num_queries 35834\n",
      "Iteration 151 distortion 0.419580 num_queries 37090\n",
      "Iteration 156 distortion 0.419560 num_queries 38266\n",
      "Iteration 161 distortion 0.419548 num_queries 39442\n",
      "Iteration 166 distortion 0.419537 num_queries 40634\n",
      "Iteration 171 distortion 0.419524 num_queries 41826\n",
      "Iteration 176 distortion 0.419513 num_queries 43034\n",
      "Iteration 181 distortion 0.419500 num_queries 44210\n",
      "Iteration 186 distortion 0.419481 num_queries 45370\n",
      "Iteration 191 distortion 0.419455 num_queries 46546\n",
      "Iteration 196 distortion 0.419437 num_queries 47722\n",
      "Iteration 201 distortion 0.419424 num_queries 48930\n",
      "Iteration 206 distortion 0.419419 num_queries 50106\n",
      "Iteration 211 distortion 0.419402 num_queries 51378\n",
      "Iteration 216 distortion 0.419387 num_queries 52570\n",
      "Iteration 221 distortion 0.419375 num_queries 53762\n",
      "Iteration 226 distortion 0.419364 num_queries 54954\n",
      "Iteration 231 distortion 0.419355 num_queries 56162\n",
      "Iteration 236 distortion 0.419345 num_queries 57354\n",
      "Iteration 241 distortion 0.419325 num_queries 58546\n",
      "Iteration 246 distortion 0.419312 num_queries 59722\n",
      "\n",
      "Adversarial Example Found Successfully: distortion 0.4193 target 4 queries 60202 LS queries 9450 \n",
      "Time: 87.2719 seconds\n"
     ]
    },
    {
     "data": {
      "image/png": "[encoded data removed]",
      "text/plain": [
       "<Figure size 432x288 with 2 Axes>"
      ]
     },
     "metadata": {},
     "output_type": "display_data"
    }
   ],
   "source": [
    "attack = OPT_attack_sign_SGD_lf(amodel, train_dataset=train_dataset)\n",
    "adv, dist = attack(x.cuda(), y.cuda(), target=target*torch.ones(1, dtype=torch.long).cuda(), seed=seed)\n",
    "plot_adv(x, adv)"
   ]
  },
  {
   "cell_type": "code",
   "execution_count": 12,
   "metadata": {},
   "outputs": [
    {
     "name": "stdout",
     "output_type": "stream",
     "text": [
      "Targeted attack - Source: 7 and Target: 4 Seed: 100\n",
      "Searching for the initial direction on 100 samples: \n",
      "--------> Found distortion 0.6148\n",
      "--------> Found distortion 0.5575\n",
      "--------> Found distortion 0.5474\n",
      "--------> Found distortion 0.5291\n"
     ]
    },
    {
     "name": "stderr",
     "output_type": "stream",
     "text": [
      "/home/simranjit/blackbox/attackbox-master/models.py:26: UserWarning: volatile was removed and now has no effect. Use `with torch.no_grad():` instead.\n",
      "  image = Variable(image, volatile=True) # ?? not supported by latest pytorch\n"
     ]
    },
    {
     "name": "stdout",
     "output_type": "stream",
     "text": [
      "--------> Found distortion 0.4489\n",
      "--------> Found distortion 0.4482\n",
      "--------> Found distortion 0.4243\n",
      "==========> Found best distortion 0.4243 in 1.6093 seconds using 1152 queries\n",
      "Iteration   1 distortion 0.423011 num_queries 1443\n",
      "Iteration   6 distortion 0.422521 num_queries 2612\n",
      "Iteration  11 distortion 0.421841 num_queries 3781\n",
      "Warning: not moving\n",
      "Iteration  16 distortion 0.421436 num_queries 5242\n",
      "Warning: not moving\n",
      "Iteration  21 distortion 0.421313 num_queries 7128\n",
      "Iteration  26 distortion 0.421170 num_queries 8356\n",
      "Iteration  31 distortion 0.420908 num_queries 9584\n",
      "Warning: not moving\n",
      "Iteration  36 distortion 0.420778 num_queries 11612\n",
      "Warning: not moving\n",
      "Warning: not moving\n",
      "Iteration  41 distortion 0.420757 num_queries 14468\n",
      "Warning: not moving\n",
      "\n",
      "Adversarial Example Found Successfully: distortion 0.4208 target 4 queries 14468 LS queries 5116 \n",
      "Time: 22.1666 seconds\n"
     ]
    },
    {
     "data": {
      "image/png": "[encoded data removed]",
      "text/plain": [
       "<Figure size 432x288 with 2 Axes>"
      ]
     },
     "metadata": {},
     "output_type": "display_data"
    }
   ],
   "source": [
    "attack = OPT_attack_sign_SGD_lf(amodel, train_dataset=train_dataset)\n",
    "adv, dist = attack(x.cuda(), y.cuda(), target=target*torch.ones(1, dtype=torch.long).cuda(), seed=seed, svm=True)\n",
    "plot_adv(x, adv)"
   ]
  }
 ],
 "metadata": {
  "kernelspec": {
   "display_name": "Python 3",
   "language": "python",
   "name": "python3"
  },
  "language_info": {
   "codemirror_mode": {
    "name": "ipython",
    "version": 3
   },
   "file_extension": ".py",
   "mimetype": "text/x-python",
   "name": "python",
   "nbconvert_exporter": "python",
   "pygments_lexer": "ipython3",
   "version": "3.6.8"
  }
 },
 "nbformat": 4,
 "nbformat_minor": 2
}
