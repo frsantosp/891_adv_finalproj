{
 "cells": [
  {
   "cell_type": "code",
   "execution_count": 2,
   "metadata": {},
   "outputs": [],
   "source": [
    "import os\n",
    "import sys\n",
    "os.environ[\"CUDA_DEVICE_ORDER\"]=\"PCI_BUS_ID\"\n",
    "os.environ[\"CUDA_VISIBLE_DEVICES\"]=\"4\";\n",
    "\n",
    "\n",
    "%load_ext autoreload\n",
    "%autoreload 2\n",
    "from CW import CW\n",
    "from FGSM import FGSM\n",
    "from OPT_attack import OPT_attack\n",
    "from OPT_attack_polar import OPT_attack_polar\n",
    "from OPT_attack_polar_GD import OPT_attack_polar_GD\n",
    "from OPT_attack_lsq import OPT_attack_lsq\n",
    "from OPT_attack_polar_lsq import OPT_attack_polar_lsq\n",
    "from OPT_attack_GD import OPT_attack_GD\n",
    "from OPT_genattack import OPT_genattack\n",
    "from OPT_attack_sign_SGD import OPT_attack_sign_SGD\n",
    "from OPT_attack_sign_SGD_lf import OPT_attack_sign_SGD_lf\n",
    "from ZOO import ZOO\n",
    "from OPT_attack_lf import OPT_attack_lf\n",
    "from nes_attack import NES\n",
    "from models import PytorchModel\n",
    "import torch\n",
    "from allmodels import MNIST, load_model, load_mnist_data, load_cifar10_data, CIFAR10\n",
    "import os\n",
    "import numpy as np\n",
    "import matplotlib.pyplot as plt"
   ]
  },
  {
   "cell_type": "code",
   "execution_count": 3,
   "metadata": {},
   "outputs": [
    {
     "data": {
      "image/png": "[encoded data removed]",
      "text/plain": [
       "<Figure size 432x288 with 3 Axes>"
      ]
     },
     "metadata": {},
     "output_type": "display_data"
    }
   ],
   "source": [
    "net = MNIST()\n",
    "net.cuda()\n",
    "net = torch.nn.DataParallel(net, device_ids=[0])\n",
    "# print(net)\n",
    "load_model(net,'mnist_gpu.pt')\n",
    "net.eval()\n",
    "model = net.module if torch.cuda.is_available() else net\n",
    "# model = model.cpu()\n",
    "train_loader, test_loader, train_dataset, test_dataset = load_mnist_data()\n",
    "\n",
    "X0, Y0 = None, None\n",
    "X1, Y1 = None, None\n",
    "X2, Y2 = None, None\n",
    "for i, (xi,yi) in enumerate(test_loader):\n",
    "    if i==0:\n",
    "        X0, Y0 = xi, yi\n",
    "    if i==1:\n",
    "        X1, Y1 = xi, yi\n",
    "    if i==2:\n",
    "        X2, Y2 = xi, yi\n",
    "    if i==10:\n",
    "        break\n",
    "        \n",
    "amodel = PytorchModel(model, bounds=[0,1], num_classes=10)\n",
    "\n",
    "def plot_adv(X, adv):\n",
    "    plt.subplot(1,2,1)\n",
    "    plt.imshow(X[0][0], cmap='gray')\n",
    "    plt.subplot(1,2,2)\n",
    "    plt.imshow(adv.cpu()[0][0], cmap='gray')\n",
    "    plt.show()\n",
    "\n",
    "# Plot the sample images\n",
    "plt.subplot(1,3,1)\n",
    "plt.imshow(X0[0][0], cmap='gray')\n",
    "plt.subplot(1,3,2)\n",
    "plt.imshow(X1[0][0], cmap='gray')\n",
    "plt.subplot(1,3,3)\n",
    "plt.imshow(X2[0][0], cmap='gray')\n",
    "plt.show()"
   ]
  },
  {
   "cell_type": "markdown",
   "metadata": {},
   "source": [
    "### Baseline distortions for 3 examples (Original Randomized Gradient Free optimization)"
   ]
  },
  {
   "cell_type": "code",
   "execution_count": 3,
   "metadata": {},
   "outputs": [
    {
     "name": "stdout",
     "output_type": "stream",
     "text": [
      "d0  1.41381\n",
      "d1  1.30457\n",
      "d3  0.7591699999999999\n"
     ]
    }
   ],
   "source": [
    "# These distortions were calculated by taking average of 10 trials for each example\n",
    "# using the randomized gradient free method.\n",
    "d0 = (1.5292 + 1.5095 + 1.4743 + 1.3108 + 1.2816 + 1.4416 + 1.5323 + 1.3404 + 1.3365 + 1.3819)/10\n",
    "d1 = (1.2531 + 1.3640 + 1.2929 + 1.2826 + 1.2985 + 1.3726 + 1.3016 + 1.2917 + 1.2976 + 1.2911)/10\n",
    "d2 = (0.7499 + 0.7520 + 0.7615 + 0.7599 + 0.7609 + 0.7635 + 0.7450 + 0.7497 + 0.8018 + 0.7475)/10\n",
    "print(\"d0 \", d0)\n",
    "print(\"d1 \", d1)\n",
    "print(\"d3 \", d2)"
   ]
  },
  {
   "cell_type": "markdown",
   "metadata": {},
   "source": [
    "### Untargeted"
   ]
  },
  {
   "cell_type": "code",
   "execution_count": 24,
   "metadata": {},
   "outputs": [
    {
     "name": "stderr",
     "output_type": "stream",
     "text": [
      "/home/simranjit/blackbox/attackbox-master/models.py:26: UserWarning: volatile was removed and now has no effect. Use `with torch.no_grad():` instead.\n",
      "  image = Variable(image, volatile=True) # ?? not supported by latest pytorch\n"
     ]
    },
    {
     "name": "stdout",
     "output_type": "stream",
     "text": [
      "Searching for the initial direction on 100 random directions: \n",
      "--------> Found distortion 0.5582\n",
      "--------> Found distortion 0.4907\n",
      "--------> Found distortion 0.4326\n",
      "--------> Found distortion 0.4239\n",
      "--------> Found distortion 0.3812\n",
      "==========> Found best distortion 0.3812 in 0.4093 seconds using 278 queries\n",
      "Iteration  10 distortion 0.2976 num_queries 1198\n",
      "Warning: not moving, g2 0.278965 gtheta 0.278965 beta is 0.010000\n",
      "Iteration  20 distortion 0.2790 num_queries 2642\n",
      "Iteration  30 distortion 0.2708 num_queries 4202\n",
      "Iteration  40 distortion 0.2665 num_queries 5692\n",
      "Iteration  50 distortion 0.2635 num_queries 7346\n",
      "Iteration  60 distortion 0.2539 num_queries 9029\n",
      "Warning: not moving, g2 0.249324 gtheta 0.249324 beta is 0.001000\n",
      "Warning: not moving, g2 0.249286 gtheta 0.249286 beta is 0.000100\n",
      "Iteration  70 distortion 0.2492 num_queries 11202\n",
      "Iteration  80 distortion 0.2465 num_queries 13652\n",
      "Iteration  90 distortion 0.2453 num_queries 16192\n",
      "Iteration 100 distortion 0.2439 num_queries 18426\n",
      "Iteration 110 distortion 0.2411 num_queries 20721\n",
      "Iteration 120 distortion 0.2386 num_queries 23268\n",
      "Iteration 130 distortion 0.2363 num_queries 25653\n",
      "Iteration 140 distortion 0.2359 num_queries 27921\n",
      "Iteration 150 distortion 0.2355 num_queries 30207\n",
      "Iteration 160 distortion 0.2353 num_queries 32511\n",
      "Iteration 170 distortion 0.2352 num_queries 35013\n",
      "Iteration 180 distortion 0.2351 num_queries 37407\n",
      "Iteration 190 distortion 0.2350 num_queries 39927\n",
      "Iteration 200 distortion 0.2349 num_queries 42375\n",
      "Iteration 210 distortion 0.2348 num_queries 44661\n",
      "Iteration 220 distortion 0.2347 num_queries 46947\n",
      "Iteration 230 distortion 0.2346 num_queries 49161\n",
      "Iteration 240 distortion 0.2345 num_queries 51411\n",
      "Iteration 250 distortion 0.2344 num_queries 53949\n",
      "Iteration 260 distortion 0.2344 num_queries 56271\n",
      "Iteration 270 distortion 0.2343 num_queries 58503\n",
      "Iteration 280 distortion 0.2343 num_queries 60843\n",
      "Warning: not moving, g2 0.234304 gtheta 0.234304 beta is 0.000010\n",
      "Iteration 290 distortion 0.2343 num_queries 63953\n",
      "Iteration 300 distortion 0.2343 num_queries 66835\n",
      "Warning: not moving, g2 0.234271 gtheta 0.234271 beta is 0.000001\n",
      "Iteration 310 distortion 0.2343 num_queries 69788\n",
      "Iteration 320 distortion 0.2343 num_queries 72780\n",
      "Iteration 330 distortion 0.2342 num_queries 75640\n",
      "Iteration 340 distortion 0.2342 num_queries 78632\n",
      "\n",
      "Adversarial Example Found Successfully: distortion 0.2342 target 4 queries 80384 \n",
      "Time: 113.2083 seconds\n"
     ]
    },
    {
     "data": {
      "image/png": "[encoded data removed]",
      "text/plain": [
       "<Figure size 432x288 with 2 Axes>"
      ]
     },
     "metadata": {},
     "output_type": "display_data"
    }
   ],
   "source": [
    "attack = OPT_attack_lf(amodel)\n",
    "adv, dist = attack(X2.cuda(), Y2.cuda(), seed=17)\n",
    "plot_adv(X2, adv)"
   ]
  },
  {
   "cell_type": "code",
   "execution_count": 25,
   "metadata": {
    "scrolled": true
   },
   "outputs": [
    {
     "name": "stderr",
     "output_type": "stream",
     "text": [
      "/home/simranjit/blackbox/attackbox-master/models.py:26: UserWarning: volatile was removed and now has no effect. Use `with torch.no_grad():` instead.\n",
      "  image = Variable(image, volatile=True) # ?? not supported by latest pytorch\n"
     ]
    },
    {
     "name": "stdout",
     "output_type": "stream",
     "text": [
      "Searching for the initial direction on 100 random directions: \n",
      "--------> Found distortion 0.5582\n",
      "--------> Found distortion 0.4907\n",
      "--------> Found distortion 0.4326\n",
      "--------> Found distortion 0.4239\n",
      "--------> Found distortion 0.3812\n",
      "==========> Found best distortion 0.3812 in 0.3886 seconds using 278 queries\n",
      "Iteration   1 distortion 0.3271 num_queries 608\n",
      "Iteration   6 distortion 0.2389 num_queries 1997\n",
      "Iteration  11 distortion 0.2247 num_queries 3253\n",
      "Iteration  16 distortion 0.2116 num_queries 4503\n",
      "Iteration  21 distortion 0.1991 num_queries 5707\n",
      "Iteration  26 distortion 0.1896 num_queries 6939\n",
      "Iteration  31 distortion 0.1864 num_queries 8078\n",
      "Iteration  36 distortion 0.1841 num_queries 9199\n",
      "Iteration  41 distortion 0.1821 num_queries 10388\n",
      "Iteration  46 distortion 0.1797 num_queries 11544\n",
      "Iteration  51 distortion 0.1773 num_queries 12682\n",
      "Iteration  56 distortion 0.1695 num_queries 13882\n",
      "Iteration  61 distortion 0.1648 num_queries 15082\n",
      "Iteration  66 distortion 0.1636 num_queries 16225\n",
      "Iteration  71 distortion 0.1628 num_queries 17359\n",
      "Iteration  76 distortion 0.1624 num_queries 18502\n",
      "Iteration  81 distortion 0.1611 num_queries 19656\n",
      "Iteration  86 distortion 0.1607 num_queries 20794\n",
      "Iteration  91 distortion 0.1600 num_queries 21959\n",
      "Iteration  96 distortion 0.1599 num_queries 23080\n",
      "Iteration 101 distortion 0.1598 num_queries 24245\n",
      "Iteration 106 distortion 0.1597 num_queries 25399\n",
      "Iteration 111 distortion 0.1596 num_queries 26531\n",
      "Iteration 116 distortion 0.1594 num_queries 27762\n",
      "Iteration 121 distortion 0.1590 num_queries 28894\n",
      "Iteration 126 distortion 0.1586 num_queries 30048\n",
      "Iteration 131 distortion 0.1585 num_queries 31213\n",
      "Iteration 136 distortion 0.1582 num_queries 32356\n",
      "Iteration 141 distortion 0.1581 num_queries 33466\n",
      "Iteration 146 distortion 0.1580 num_queries 34609\n",
      "Iteration 151 distortion 0.1579 num_queries 35741\n",
      "Iteration 156 distortion 0.1579 num_queries 36862\n",
      "Iteration 161 distortion 0.1578 num_queries 38016\n",
      "Iteration 166 distortion 0.1577 num_queries 39126\n",
      "Iteration 171 distortion 0.1576 num_queries 40258\n",
      "Iteration 176 distortion 0.1576 num_queries 41401\n",
      "Iteration 181 distortion 0.1575 num_queries 42555\n",
      "Iteration 186 distortion 0.1574 num_queries 43698\n",
      "Iteration 191 distortion 0.1573 num_queries 44863\n",
      "Iteration 196 distortion 0.1573 num_queries 46017\n",
      "Iteration 201 distortion 0.1572 num_queries 47149\n",
      "Warning: not moving, beta is 0.001\n",
      "Iteration 206 distortion 0.1572 num_queries 48478\n",
      "Iteration 211 distortion 0.1572 num_queries 49632\n",
      "Iteration 216 distortion 0.1572 num_queries 50800\n",
      "Iteration 221 distortion 0.1572 num_queries 51968\n",
      "Iteration 226 distortion 0.1572 num_queries 53136\n",
      "Warning: not moving, beta is 0.0001\n",
      "Iteration 231 distortion 0.1572 num_queries 54630\n",
      "Iteration 236 distortion 0.1572 num_queries 55864\n",
      "Iteration 241 distortion 0.1572 num_queries 57080\n",
      "Iteration 246 distortion 0.1572 num_queries 58296\n",
      "Iteration 251 distortion 0.1572 num_queries 59530\n",
      "\n",
      "Adversarial Example Found Successfully: distortion 0.1572 target 4 queries 60020 LS queries 9142 \n",
      "Time: 90.5599 seconds\n"
     ]
    },
    {
     "data": {
      "image/png": "[encoded data removed]",
      "text/plain": [
       "<Figure size 432x288 with 2 Axes>"
      ]
     },
     "metadata": {},
     "output_type": "display_data"
    }
   ],
   "source": [
    "attack = OPT_attack_sign_SGD_lf(amodel)\n",
    "adv_sign, dist_sign = attack(X2.cuda(), Y2.cuda(), seed=17)\n",
    "plot_adv(X2, adv_sign)"
   ]
  },
  {
   "cell_type": "markdown",
   "metadata": {},
   "source": [
    "### Targeted"
   ]
  },
  {
   "cell_type": "code",
   "execution_count": 26,
   "metadata": {},
   "outputs": [
    {
     "name": "stdout",
     "output_type": "stream",
     "text": [
      "Targeted attack - Source: 1 and Target: 4 Seed: 10\n",
      "Searching for the initial direction on 100 samples: \n",
      "--------> Found distortion 0.2617\n",
      "--------> Found distortion 0.2187\n",
      "--------> Found distortion 0.1623\n"
     ]
    },
    {
     "name": "stderr",
     "output_type": "stream",
     "text": [
      "/home/simranjit/blackbox/attackbox-master/models.py:26: UserWarning: volatile was removed and now has no effect. Use `with torch.no_grad():` instead.\n",
      "  image = Variable(image, volatile=True) # ?? not supported by latest pytorch\n"
     ]
    },
    {
     "name": "stdout",
     "output_type": "stream",
     "text": [
      "--------> Found distortion 0.1433\n",
      "--------> Found distortion 0.1412\n",
      "--------> Found distortion 0.1365\n",
      "==========> Found best distortion 0.1365 in 1.6196 seconds using 1129 queries\n",
      "Iteration  10 distortion 0.1359 num_queries 2464\n",
      "Warning: not moving, g2 0.135850 gtheta 0.135850 beta is 0.001000\n",
      "Iteration  20 distortion 0.1358 num_queries 5625\n",
      "Iteration  30 distortion 0.1358 num_queries 8817\n",
      "Warning: not moving, g2 0.135806 gtheta 0.135806 beta is 0.000100\n",
      "Iteration  40 distortion 0.1358 num_queries 12979\n",
      "Iteration  50 distortion 0.1358 num_queries 17065\n",
      "Iteration  60 distortion 0.1357 num_queries 21349\n",
      "Iteration  70 distortion 0.1357 num_queries 25507\n",
      "Iteration  80 distortion 0.1357 num_queries 29575\n",
      "Iteration  90 distortion 0.1357 num_queries 33733\n",
      "Iteration 100 distortion 0.1357 num_queries 37801\n",
      "Warning: not moving, g2 0.135692 gtheta 0.135692 beta is 0.000010\n",
      "Iteration 110 distortion 0.1357 num_queries 42742\n",
      "Iteration 120 distortion 0.1357 num_queries 47740\n",
      "Warning: not moving, g2 0.135690 gtheta 0.135690 beta is 0.000001\n",
      "Iteration 130 distortion 0.1357 num_queries 52885\n",
      "Warning: not moving, g2 0.135690 gtheta 0.135690 beta is 0.000000\n",
      "Warning: not moving, g2 0.135690 gtheta 0.135690 beta is 0.000000\n",
      "\n",
      "Adversarial Example Found Successfully: distortion 0.1357 target 4 queries 55608 \n",
      "Time: 77.8848 seconds\n"
     ]
    },
    {
     "data": {
      "image/png": "[encoded data removed]",
      "text/plain": [
       "<Figure size 432x288 with 2 Axes>"
      ]
     },
     "metadata": {},
     "output_type": "display_data"
    }
   ],
   "source": [
    "attack = OPT_attack_lf(amodel, train_dataset=train_dataset)\n",
    "target = 4\n",
    "adv, dist = attack(X2.cuda(), Y2.cuda(), target=target*torch.ones(1, dtype=torch.long).cuda(), seed=10)\n",
    "plot_adv(X2, adv)"
   ]
  },
  {
   "cell_type": "code",
   "execution_count": 29,
   "metadata": {
    "scrolled": true
   },
   "outputs": [
    {
     "name": "stdout",
     "output_type": "stream",
     "text": [
      "Targeted attack - Source: 1 and Target: 4 Seed: 10\n",
      "Searching for the initial direction on 100 samples: \n",
      "--------> Found distortion 0.2617\n",
      "--------> Found distortion 0.2187\n",
      "--------> Found distortion 0.1623\n"
     ]
    },
    {
     "name": "stderr",
     "output_type": "stream",
     "text": [
      "/home/simranjit/blackbox/attackbox-master/models.py:26: UserWarning: volatile was removed and now has no effect. Use `with torch.no_grad():` instead.\n",
      "  image = Variable(image, volatile=True) # ?? not supported by latest pytorch\n"
     ]
    },
    {
     "name": "stdout",
     "output_type": "stream",
     "text": [
      "--------> Found distortion 0.1433\n",
      "--------> Found distortion 0.1412\n",
      "--------> Found distortion 0.1365\n",
      "==========> Found best distortion 0.1365 in 1.6587 seconds using 1129 queries\n",
      "Iteration   1 distortion 0.136040 num_queries 1351\n",
      "Iteration   6 distortion 0.135895 num_queries 2516\n",
      "Iteration  11 distortion 0.135756 num_queries 3714\n",
      "Iteration  16 distortion 0.135732 num_queries 4846\n",
      "Iteration  21 distortion 0.135692 num_queries 6000\n",
      "Iteration  26 distortion 0.135626 num_queries 7198\n",
      "Iteration  31 distortion 0.135589 num_queries 8330\n",
      "Iteration  36 distortion 0.135532 num_queries 9495\n",
      "Warning: not moving\n",
      "Iteration  41 distortion 0.135515 num_queries 10770\n",
      "Iteration  46 distortion 0.135509 num_queries 11980\n",
      "Iteration  51 distortion 0.135507 num_queries 13134\n",
      "Iteration  56 distortion 0.135503 num_queries 14288\n",
      "Iteration  61 distortion 0.135502 num_queries 15456\n",
      "Warning: not moving\n",
      "Warning: not moving\n",
      "Iteration  66 distortion 0.135501 num_queries 16942\n",
      "Warning: not moving\n",
      "Warning: not moving\n",
      "Warning: not moving\n",
      "Warning: not moving\n",
      "Iteration  71 distortion 0.135501 num_queries 19034\n",
      "Warning: not moving\n",
      "Warning: not moving\n",
      "Warning: not moving\n",
      "Warning: not moving\n",
      "Warning: not moving\n",
      "Iteration  76 distortion 0.135501 num_queries 21714\n",
      "Success: stopping threshold reached\n",
      "\n",
      "Adversarial Example Found Successfully: distortion 0.1355 target 4 queries 21714 LS queries 5385 \n",
      "Time: 30.3183 seconds\n"
     ]
    },
    {
     "data": {
      "image/png": "[encoded data removed]",
      "text/plain": [
       "<Figure size 432x288 with 2 Axes>"
      ]
     },
     "metadata": {},
     "output_type": "display_data"
    }
   ],
   "source": [
    "attack = OPT_attack_sign_SGD_lf(amodel, train_dataset=train_dataset)\n",
    "target = 4\n",
    "adv, dist = attack(X2.cuda(), Y2.cuda(), target=target*torch.ones(1, dtype=torch.long).cuda(), seed=10)\n",
    "plot_adv(X2, adv)"
   ]
  },
  {
   "cell_type": "code",
   "execution_count": null,
   "metadata": {},
   "outputs": [],
   "source": []
  }
 ],
 "metadata": {
  "kernelspec": {
   "display_name": "Python 3",
   "language": "python",
   "name": "python3"
  },
  "language_info": {
   "codemirror_mode": {
    "name": "ipython",
    "version": 3
   },
   "file_extension": ".py",
   "mimetype": "text/x-python",
   "name": "python",
   "nbconvert_exporter": "python",
   "pygments_lexer": "ipython3",
   "version": "3.6.8"
  }
 },
 "nbformat": 4,
 "nbformat_minor": 2
}
